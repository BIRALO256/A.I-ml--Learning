{
 "cells": [
  {
   "cell_type": "code",
   "execution_count": 1,
   "id": "f3d83caf-1522-453d-b8c7-fc7d2366ebe7",
   "metadata": {},
   "outputs": [],
   "source": [
    "import numpy  as np"
   ]
  },
  {
   "cell_type": "markdown",
   "id": "1d6229e5-bc6e-49ae-b20c-279ea319625c",
   "metadata": {},
   "source": [
    " # BASICS OF NUMPY"
   ]
  },
  {
   "cell_type": "code",
   "execution_count": 2,
   "id": "e4a31d24-c009-4801-93a8-d63764631bc5",
   "metadata": {},
   "outputs": [
    {
     "name": "stdout",
     "output_type": "stream",
     "text": [
      "[1 2 3]\n"
     ]
    }
   ],
   "source": [
    "a = np.array([1,2,3])\n",
    "print(a)"
   ]
  },
  {
   "cell_type": "code",
   "execution_count": 3,
   "id": "37dcd536-40de-4fe6-99fd-cbb44c0f3143",
   "metadata": {},
   "outputs": [
    {
     "name": "stdout",
     "output_type": "stream",
     "text": [
      "[[3.  4.2 9. ]\n",
      " [6.  5.  4. ]]\n"
     ]
    }
   ],
   "source": [
    "### This is a two dimesional array in numpy\n",
    "b =np.array([[3,4.2,9],[6.0,5.0,4.0]])\n",
    "print(b)"
   ]
  },
  {
   "cell_type": "code",
   "execution_count": 7,
   "id": "bf560dd6-b1a4-4883-9b87-621658e273c1",
   "metadata": {},
   "outputs": [
    {
     "data": {
      "text/plain": [
       "1"
      ]
     },
     "execution_count": 7,
     "metadata": {},
     "output_type": "execute_result"
    }
   ],
   "source": [
    "# Get dimension of the array\n",
    "a.ndim"
   ]
  },
  {
   "cell_type": "code",
   "execution_count": 9,
   "id": "6e1b8b45-dbeb-4ab4-8697-147a777add96",
   "metadata": {},
   "outputs": [
    {
     "data": {
      "text/plain": [
       "(3,)"
      ]
     },
     "execution_count": 9,
     "metadata": {},
     "output_type": "execute_result"
    }
   ],
   "source": [
    "# Get shape of \"a\".. which is a one dimesional array \n",
    "a.shape"
   ]
  },
  {
   "cell_type": "code",
   "execution_count": 10,
   "id": "0895482f-605e-461a-b06a-79f19e1fa417",
   "metadata": {},
   "outputs": [
    {
     "data": {
      "text/plain": [
       "(2, 3)"
      ]
     },
     "execution_count": 10,
     "metadata": {},
     "output_type": "execute_result"
    }
   ],
   "source": [
    "# Get shape of \"b\".. which is a two dimesional array \n",
    "b.shape"
   ]
  },
  {
   "cell_type": "code",
   "execution_count": 13,
   "id": "a34ccdd9-7336-4d19-a4c1-62490c95c174",
   "metadata": {},
   "outputs": [
    {
     "data": {
      "text/plain": [
       "dtype('float64')"
      ]
     },
     "execution_count": 13,
     "metadata": {},
     "output_type": "execute_result"
    }
   ],
   "source": [
    "## getting data type of the array \"b\"\n",
    "b.dtype"
   ]
  },
  {
   "cell_type": "code",
   "execution_count": 15,
   "id": "c82f7c91-5408-4559-b107-9fe917666529",
   "metadata": {},
   "outputs": [
    {
     "data": {
      "text/plain": [
       "dtype('int32')"
      ]
     },
     "execution_count": 15,
     "metadata": {},
     "output_type": "execute_result"
    }
   ],
   "source": [
    "## getting data type of the array  and it's size it occupies like below it's an int of size 32\"a\"\n",
    "a.dtype"
   ]
  },
  {
   "cell_type": "markdown",
   "id": "c3ac6dba-ed14-4b8f-9ae0-cc5906ff4b94",
   "metadata": {},
   "source": [
    "### (.itemsize) Returns the size (in bytes) of each element in the array."
   ]
  },
  {
   "cell_type": "code",
   "execution_count": 19,
   "id": "8b5d9553-c95f-44bd-bf2d-743190eafb16",
   "metadata": {},
   "outputs": [
    {
     "data": {
      "text/plain": [
       "4"
      ]
     },
     "execution_count": 19,
     "metadata": {},
     "output_type": "execute_result"
    }
   ],
   "source": [
    "# get size of an array ..like how many bytes does this array ocuupy in memeory \n",
    "a.itemsize"
   ]
  },
  {
   "cell_type": "code",
   "execution_count": 20,
   "id": "5cb7236e-4ce9-491c-bd8c-650ab9caca98",
   "metadata": {},
   "outputs": [
    {
     "data": {
      "text/plain": [
       "8"
      ]
     },
     "execution_count": 20,
     "metadata": {},
     "output_type": "execute_result"
    }
   ],
   "source": [
    "# for \"b\" the bytes are \n",
    "b.itemsize"
   ]
  },
  {
   "cell_type": "markdown",
   "id": "604d86a5-680a-4925-95ac-b9dc01559d86",
   "metadata": {},
   "source": [
    "### (.size)  Returns the total number of elements in the array"
   ]
  },
  {
   "cell_type": "code",
   "execution_count": 21,
   "id": "8422971d-f1b7-4aea-90c0-b3741ad27d30",
   "metadata": {},
   "outputs": [
    {
     "data": {
      "text/plain": [
       "3"
      ]
     },
     "execution_count": 21,
     "metadata": {},
     "output_type": "execute_result"
    }
   ],
   "source": [
    " a.size"
   ]
  },
  {
   "cell_type": "code",
   "execution_count": 22,
   "id": "27e88608-43b9-4f77-b298-9673b2c4e698",
   "metadata": {},
   "outputs": [
    {
     "data": {
      "text/plain": [
       "6"
      ]
     },
     "execution_count": 22,
     "metadata": {},
     "output_type": "execute_result"
    }
   ],
   "source": [
    "b.size"
   ]
  },
  {
   "cell_type": "markdown",
   "id": "2ce9bc5e-2005-4956-b8b6-0c8cb5a6d45a",
   "metadata": {},
   "source": [
    "### (.nbytes)  Returns the total number of bytes consumed by the array"
   ]
  },
  {
   "cell_type": "code",
   "execution_count": 23,
   "id": "eb64a539-d57f-4422-834c-e03339d7abc5",
   "metadata": {},
   "outputs": [
    {
     "data": {
      "text/plain": [
       "12"
      ]
     },
     "execution_count": 23,
     "metadata": {},
     "output_type": "execute_result"
    }
   ],
   "source": [
    "a.nbytes"
   ]
  },
  {
   "cell_type": "markdown",
   "id": "b4b8b140-1f44-451f-8d40-955b1732c1da",
   "metadata": {},
   "source": [
    "## Accessing/Changing specific elements ,rows, columns ,etc"
   ]
  },
  {
   "cell_type": "code",
   "execution_count": 24,
   "id": "5645b9f1-e03a-468f-998b-37eeaed81045",
   "metadata": {},
   "outputs": [
    {
     "name": "stdout",
     "output_type": "stream",
     "text": [
      "[[ 1  2  3  4  5  6  7]\n",
      " [ 8  9 10 11 12 13 14]]\n"
     ]
    }
   ],
   "source": [
    "# Create a 2x7 array of integers\n",
    "a = np.array([[1, 2, 3, 4, 5, 6, 7],\n",
    "                  [8, 9, 10, 11, 12, 13, 14]])\n",
    "print(a)"
   ]
  },
  {
   "cell_type": "code",
   "execution_count": 25,
   "id": "808f734e-e478-452d-8fdc-6a4df2418864",
   "metadata": {},
   "outputs": [
    {
     "data": {
      "text/plain": [
       "13"
      ]
     },
     "execution_count": 25,
     "metadata": {},
     "output_type": "execute_result"
    }
   ],
   "source": [
    "# get specific  element  [r,c].... we use that way of [row(r), column(c)]\n",
    "a[1,5]"
   ]
  },
  {
   "cell_type": "code",
   "execution_count": 26,
   "id": "a45fe72c-b469-4b54-8087-392e694bdd89",
   "metadata": {},
   "outputs": [
    {
     "data": {
      "text/plain": [
       "array([1, 2, 3, 4, 5, 6, 7])"
      ]
     },
     "execution_count": 26,
     "metadata": {},
     "output_type": "execute_result"
    }
   ],
   "source": [
    "# get a specific row .....\":\"... that means all ...like first row and all it's data in it \n",
    "a[0, :]"
   ]
  },
  {
   "cell_type": "code",
   "execution_count": null,
   "id": "e32a5877-045b-45bc-bd43-f327ad08b08f",
   "metadata": {},
   "outputs": [],
   "source": []
  }
 ],
 "metadata": {
  "kernelspec": {
   "display_name": "Python 3 (ipykernel)",
   "language": "python",
   "name": "python3"
  },
  "language_info": {
   "codemirror_mode": {
    "name": "ipython",
    "version": 3
   },
   "file_extension": ".py",
   "mimetype": "text/x-python",
   "name": "python",
   "nbconvert_exporter": "python",
   "pygments_lexer": "ipython3",
   "version": "3.11.10"
  }
 },
 "nbformat": 4,
 "nbformat_minor": 5
}
