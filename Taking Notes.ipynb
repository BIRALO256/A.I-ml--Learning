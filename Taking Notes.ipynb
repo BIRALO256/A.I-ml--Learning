{
 "cells": [
  {
   "cell_type": "markdown",
   "id": "0b8bc733-c2b5-4061-bac0-7159661e4de9",
   "metadata": {},
   "source": [
    "# Preparing the Dataset"
   ]
  },
  {
   "cell_type": "code",
   "execution_count": null,
   "id": "9fb59192-08c2-4b86-a5dc-b426b445f225",
   "metadata": {},
   "outputs": [],
   "source": [
    "from tensorflow.keras.preprocessing.image import ImageDataGenerator\n",
    "\n",
    "# Define data augmentation and preprocessing\n",
    "datagen = ImageDataGenerator(\n",
    "    rescale=1.0/255,          # Normalize pixel values (0-255 -> 0-1)\n",
    "    rotation_range=20,        # Randomly rotate images\n",
    "    width_shift_range=0.2,    # Horizontal shift\n",
    "    height_shift_range=0.2,   # Vertical shift\n",
    "    zoom_range=0.2,           # Zoom\n",
    "    validation_split=0.2      # Split data into training and validation sets\n",
    ")\n",
    "\n",
    "# Load training and validation data\n",
    "train_data = datagen.flow_from_directory(\n",
    "    'path_to_images/train',   # Path to training images\n",
    "    target_size=(100, 100),   # Resize all images to 100x100 pixels\n",
    "    batch_size=32,            # Batch size for training\n",
    "    class_mode='binary',      # For binary classification\n",
    "    subset='training'         # Use training data subset\n",
    ")\n",
    "\n",
    "val_data = datagen.flow_from_directory(\n",
    "    'path_to_images/train',\n",
    "    target_size=(100, 100),\n",
    "    batch_size=32,\n",
    "    class_mode='binary',\n",
    "    subset='validation'\n",
    ")\n"
   ]
  }
 ],
 "metadata": {
  "kernelspec": {
   "display_name": "Python 3 (ipykernel)",
   "language": "python",
   "name": "python3"
  },
  "language_info": {
   "codemirror_mode": {
    "name": "ipython",
    "version": 3
   },
   "file_extension": ".py",
   "mimetype": "text/x-python",
   "name": "python",
   "nbconvert_exporter": "python",
   "pygments_lexer": "ipython3",
   "version": "3.11.10"
  }
 },
 "nbformat": 4,
 "nbformat_minor": 5
}
